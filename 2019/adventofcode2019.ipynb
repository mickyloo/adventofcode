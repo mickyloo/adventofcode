{
  "nbformat": 4,
  "nbformat_minor": 0,
  "metadata": {
    "colab": {
      "name": "adventofcode2019.ipynb",
      "provenance": [],
      "collapsed_sections": [
        "gKmzX-IcPCMB",
        "S--YGCMEjZdH",
        "f60s_2oNjgoi",
        "teIPj8_TuSGx",
        "Itzzt3W3uWp-",
        "I1g-vAHRuXTQ",
        "ghwvgGpauXlj",
        "BnN3eswkY7pK",
        "hi7uVFakY781"
      ],
      "toc_visible": true
    },
    "kernelspec": {
      "name": "python3",
      "display_name": "Python 3.8.8 64-bit",
      "metadata": {
        "interpreter": {
          "hash": "245b6e193b5d9b9ebf715a052c99b1839a3cea1db708e7bad818febe289d22d2"
        }
      }
    }
  },
  "cells": [
    {
      "cell_type": "code",
      "metadata": {
        "id": "aVJ68cabf4qF"
      },
      "source": [
        "# imports\n",
        "from itertools import product, groupby, combinations, permutations\n",
        "from itertools import cycle\n",
        "from collections import deque\n",
        "from collections.abc import Iterable\n",
        "import math"
      ],
      "execution_count": 3,
      "outputs": []
    },
    {
      "cell_type": "code",
      "metadata": {
        "id": "5H3vuH2YjYoK"
      },
      "source": [
        "INPUTS_DIR = \"inputs\""
      ],
      "execution_count": 8,
      "outputs": []
    },
    {
      "cell_type": "markdown",
      "metadata": {
        "id": "gKmzX-IcPCMB"
      },
      "source": [
        "# Common Classes"
      ]
    },
    {
      "cell_type": "code",
      "metadata": {
        "id": "T8KZz-R4uXaN"
      },
      "source": [
        "class IntCodeComputer:\n",
        "\n",
        "    def __init__(self, mem, phase=None):\n",
        "        self.debug = False\n",
        "\n",
        "        self.mem = {k:v for k,v in enumerate(mem)}\n",
        "        self.pointer = 0\n",
        "        self.output = []\n",
        "        self.input_val = deque()\n",
        "        self.relative_base = 0\n",
        "\n",
        "        self.ops = {\n",
        "            1: self._sum,\n",
        "            2: self._mult,\n",
        "            3: self._input,\n",
        "            4: self._output,\n",
        "            5: self._jump_if_true,\n",
        "            6: self._jump_if_false,\n",
        "            7: self._less_than,\n",
        "            8: self._equals,\n",
        "            9: self._adjust_relative_base,\n",
        "            99: self._halt\n",
        "        }\n",
        "\n",
        "        if phase:\n",
        "            self._set_phase(phase)\n",
        "\n",
        "    def run(self, input_val):\n",
        "        if isinstance(input_val, Iterable):\n",
        "            self.input_val.extend(input_val)\n",
        "        else:\n",
        "            self.input_val.append(input_val)\n",
        "\n",
        "        while (not self.halted):\n",
        "            func, *modes = self.decode(self.mem[self.pointer])\n",
        "            if func == self.ops[3] and not self.input_val:\n",
        "                break\n",
        "\n",
        "            func(*modes)\n",
        "\n",
        "        return self.output[-1]\n",
        "            \n",
        "    def _set_phase(self, phase):\n",
        "        try:\n",
        "            self.run(phase)\n",
        "        except IndexError:\n",
        "            pass\n",
        "\n",
        "    @property\n",
        "    def halted(self):\n",
        "        return self.mem[self.pointer] == 99\n",
        "\n",
        "    def value(self, val, mode):\n",
        "        if mode == 0:\n",
        "            return self.mem.get(val, 0)\n",
        "        elif mode == 1:\n",
        "            return val\n",
        "        elif mode == 2:\n",
        "            return self.mem.get(self.relative_base + val, 0)\n",
        "        else:\n",
        "            print(\"something is wrong\")\n",
        "\n",
        "    def store_value(self, val, mode):\n",
        "        if mode == 2:\n",
        "            return self.relative_base + val\n",
        "        else:\n",
        "            return val\n",
        "\n",
        "    def decode(self, opcode):\n",
        "        instruction = opcode % 100\n",
        "        opcode = opcode // 100\n",
        "\n",
        "        mode1 = opcode % 10\n",
        "        opcode = opcode // 10\n",
        "\n",
        "        mode2 = opcode % 10\n",
        "        opcode = opcode // 10\n",
        "\n",
        "        mode3 = opcode % 10\n",
        "        opcode = opcode // 10\n",
        "\n",
        "        return self.ops.get(instruction), mode1, mode2, mode3\n",
        "\n",
        "    # OPCODE 1\n",
        "    def _sum(self, *modes):\n",
        "        p = self.pointer\n",
        "        param1 = self.value(self.mem[p+1], modes[0])\n",
        "        param2 = self.value(self.mem[p+2], modes[1])\n",
        "        store = self.store_value(self.mem[p+3], modes[2])\n",
        "        self.mem[store] = param1 + param2        \n",
        "        self.pointer += 4\n",
        "    \n",
        "    # OPCODE 2\n",
        "    def _mult(self,*modes):\n",
        "        p = self.pointer\n",
        "        param1 = self.value(self.mem[p+1], modes[0])\n",
        "        param2 = self.value(self.mem[p+2], modes[1])\n",
        "        store = self.store_value(self.mem[p+3], modes[2])\n",
        "        self.mem[store] = param1 * param2\n",
        "        self.pointer += 4\n",
        "\n",
        "    # OPCODE 3\n",
        "    def _input(self,*modes):\n",
        "        store = self.store_value(self.mem[self.pointer+1], modes[0])\n",
        "        self.mem[store] = self.input_val.popleft()\n",
        "        self.pointer += 2\n",
        "\n",
        "    # OPCODE 4\n",
        "    def _output(self,*modes):\n",
        "        target = self.mem[self.pointer+1]\n",
        "        self.output.append(self.value(target, modes[0]))\n",
        "        self.pointer += 2\n",
        "    \n",
        "    # OPCODE 5\n",
        "    def _jump_if_true(self, *modes):\n",
        "        p = self.pointer\n",
        "        param = self.value(self.mem[p+1], modes[0])\n",
        "        if param != 0:\n",
        "            self.pointer = self.value(self.mem[p+2], modes[1])\n",
        "        else:\n",
        "            self.pointer += 3\n",
        "\n",
        "    # OPCODE 6\n",
        "    def _jump_if_false(self, *modes):\n",
        "        p = self.pointer\n",
        "        param = self.value(self.mem[p+1], modes[0])\n",
        "        if param == 0:\n",
        "            self.pointer = self.value(self.mem[p+2], modes[1])\n",
        "        else:\n",
        "            self.pointer += 3\n",
        "\n",
        "    # OPCODE 7\n",
        "    def _less_than(self, *modes):\n",
        "        p = self.pointer\n",
        "        param1 = self.value(self.mem[p+1], modes[0])\n",
        "        param2 = self.value(self.mem[p+2], modes[1])\n",
        "        store = self.store_value(self.mem[p+3], modes[2])\n",
        "        self.mem[store] = 1 if param1 < param2 else 0\n",
        "        self.pointer += 4\n",
        "\n",
        "    # OPCODE 8\n",
        "    def _equals(self, *modes):\n",
        "        p = self.pointer\n",
        "        param1 = self.value(self.mem[p+1], modes[0])\n",
        "        param2 = self.value(self.mem[p+2], modes[1])\n",
        "        store = self.store_value(self.mem[p+3], modes[2])\n",
        "        self.mem[store] = 1 if param1 == param2 else 0\n",
        "        self.pointer += 4\n",
        "\n",
        "    def _adjust_relative_base(self, *modes):\n",
        "        base = self.mem[self.pointer+1]\n",
        "        self.relative_base += self.value(base, modes[0])\n",
        "        self.pointer += 2\n",
        "\n",
        "    def _halt(self):\n",
        "        print(\"halt\")"
      ],
      "execution_count": null,
      "outputs": []
    },
    {
      "cell_type": "markdown",
      "metadata": {
        "id": "S--YGCMEjZdH"
      },
      "source": [
        "# Day 1"
      ]
    },
    {
      "cell_type": "code",
      "metadata": {
        "colab": {
          "base_uri": "https://localhost:8080/"
        },
        "id": "Qoun4_mZjdor",
        "outputId": "9c0b874b-2e42-4f95-ec22-8af0f677f830"
      },
      "source": [
        "def fuel(module):\n",
        "    return (module // 3) - 2\n",
        "\n",
        "sum = 0\n",
        "with open(f\"{INPUTS_DIR}/day01\", \"r\") as fin:\n",
        "    for line in fin.readlines():\n",
        "        module = int(line.strip())\n",
        "        sum += fuel(module)\n",
        "sum"
      ],
      "execution_count": 9,
      "outputs": [
        {
          "output_type": "execute_result",
          "data": {
            "text/plain": [
              "3167282"
            ]
          },
          "metadata": {},
          "execution_count": 9
        }
      ]
    },
    {
      "cell_type": "code",
      "metadata": {
        "colab": {
          "base_uri": "https://localhost:8080/"
        },
        "id": "NZuQSW6yjkBn",
        "outputId": "0a3c1c5c-af24-4ee1-f52f-880035ada46a"
      },
      "source": [
        "def recurse_fuel(module):\n",
        "    if fuel(module) <= 0:\n",
        "        return 0\n",
        "    else:\n",
        "        f = fuel(module)\n",
        "        return f + recurse_fuel(f)\n",
        "\n",
        "sum = 0\n",
        "with open(f\"{INPUTS_DIR}/day01\", \"r\") as fin:\n",
        "    for line in fin.readlines():\n",
        "        module = int(line.strip())\n",
        "        sum += recurse_fuel(module)\n",
        "sum"
      ],
      "execution_count": null,
      "outputs": [
        {
          "output_type": "execute_result",
          "data": {
            "text/plain": [
              "4748063"
            ]
          },
          "metadata": {
            "tags": []
          },
          "execution_count": 29
        }
      ]
    },
    {
      "cell_type": "markdown",
      "metadata": {
        "id": "f60s_2oNjgoi"
      },
      "source": [
        "# Day 2"
      ]
    },
    {
      "cell_type": "code",
      "metadata": {
        "colab": {
          "base_uri": "https://localhost:8080/"
        },
        "id": "c8l774CsoKTU",
        "outputId": "a9d946b1-c0d3-4d0a-91bd-01cb9fb5d5c2"
      },
      "source": [
        "def Intcode(ops):\n",
        "    pointer = 0\n",
        "    while (ops[pointer] != 99):\n",
        "        store = ops[pointer+3]\n",
        "        if ops[pointer] == 1:\n",
        "            ops[store] = ops[ops[pointer+1]] + ops[ops[pointer+2]]\n",
        "        elif ops[pointer] == 2:\n",
        "            ops[store] = ops[ops[pointer+1]] * ops[ops[pointer+2]]\n",
        "        else:\n",
        "            print(f\"something went wrong {pointer}\")\n",
        "        pointer += 4\n",
        "\n",
        "def day2(ops, noun, verb):\n",
        "    ops[1] = noun\n",
        "    ops[2] = verb\n",
        "    Intcode(ops)\n",
        "    return ops[0]\n",
        "\n",
        "with open(f\"{INPUTS_DIR}/day02\", \"r\") as fin:\n",
        "    ops = [int(c) for c in fin.read().split(\",\")]\n",
        "\n",
        "day2(ops, 12, 2)"
      ],
      "execution_count": null,
      "outputs": [
        {
          "output_type": "execute_result",
          "data": {
            "text/plain": [
              "4462686"
            ]
          },
          "metadata": {
            "tags": []
          },
          "execution_count": 69
        }
      ]
    },
    {
      "cell_type": "code",
      "metadata": {
        "colab": {
          "base_uri": "https://localhost:8080/"
        },
        "id": "s-fOQ9ZGoKVs",
        "outputId": "8692053c-6be1-4e27-afd9-eb5d625f8776"
      },
      "source": [
        "with open(f\"{INPUTS_DIR}/day02\", \"r\") as fin:\n",
        "    ops = [int(c) for c in fin.read().split(\",\")]\n",
        "\n",
        "for noun, verb in product(range(0,100), range(0,100)):\n",
        "    _ops = ops.copy()\n",
        "    if day2(_ops, noun, verb) == 19690720:\n",
        "        print(100 * noun + verb)"
      ],
      "execution_count": null,
      "outputs": [
        {
          "output_type": "stream",
          "text": [
            "5936\n"
          ],
          "name": "stdout"
        }
      ]
    },
    {
      "cell_type": "markdown",
      "metadata": {
        "id": "teIPj8_TuSGx"
      },
      "source": [
        "# Day 3"
      ]
    },
    {
      "cell_type": "code",
      "metadata": {
        "colab": {
          "base_uri": "https://localhost:8080/"
        },
        "id": "kAUJT6KRtuGD",
        "outputId": "ed497b3a-d8a8-477b-de58-b4d0b5c9f839"
      },
      "source": [
        "def wire_path(wire):\n",
        "    visited = []\n",
        "    x,y = 0,0\n",
        "\n",
        "    for move in wire:\n",
        "        direction = move[0]\n",
        "        distance = int(move[1:])\n",
        "\n",
        "        if direction == 'R':\n",
        "            path = [(x + newx,y) for newx in range(1, distance+1)]\n",
        "        elif direction == 'L':\n",
        "            path = [(x - newx,y) for newx in range(1, distance+1)]\n",
        "        elif direction == 'U':\n",
        "            path = [(x,y+newy) for newy in range(1, distance+1)]\n",
        "        elif direction == 'D':\n",
        "            path = [(x,y-newy) for newy in range(1, distance+1)]\n",
        "\n",
        "        x,y = path[-1][0], path[-1][1]\n",
        "        visited.extend(path)\n",
        "    \n",
        "    return visited\n",
        "\n",
        "def closest_intersection(wire1, wire2):\n",
        "    path1 = set(wire_path(wire1))\n",
        "    path2 = set(wire_path(wire2))\n",
        "    \n",
        "    distances = [abs(intersect[0]) + abs(intersect[1]) for intersect in path1.intersection(path2)]\n",
        "    return min(distances)\n",
        "\n",
        "with open(f\"{INPUTS_DIR}/day03\", \"r\") as fin:\n",
        "    wire1 = fin.readline().split(\",\")\n",
        "    wire2 = fin.readline().split(\",\")\n",
        "\n",
        "closest_intersection(wire1, wire2)"
      ],
      "execution_count": null,
      "outputs": [
        {
          "output_type": "execute_result",
          "data": {
            "text/plain": [
              "1264"
            ]
          },
          "metadata": {
            "tags": []
          },
          "execution_count": 8
        }
      ]
    },
    {
      "cell_type": "code",
      "metadata": {
        "id": "a6JiiIv9uWOJ",
        "colab": {
          "base_uri": "https://localhost:8080/"
        },
        "outputId": "a35bba5c-902a-4f94-a62f-ca0b106d1a22"
      },
      "source": [
        "with open(f\"{INPUTS_DIR}/day03\", \"r\") as fin:\n",
        "    wire1 = fin.readline().split(\",\")\n",
        "    wire2 = fin.readline().split(\",\")\n",
        "\n",
        "def min_wire_steps(wire1, wire2):\n",
        "    path1 = wire_path(wire1)\n",
        "    path2 = wire_path(wire2)\n",
        "\n",
        "    intersects = set(path1).intersection(set(path2))\n",
        "    steps_to_intersect = [\n",
        "        path1.index(intersect) + path2.index(intersect) + 2 \n",
        "        for intersect in intersects\n",
        "    ]\n",
        "\n",
        "    return min(steps_to_intersect)\n",
        "\n",
        "min_wire_steps(wire1, wire2)"
      ],
      "execution_count": null,
      "outputs": [
        {
          "output_type": "execute_result",
          "data": {
            "text/plain": [
              "37390"
            ]
          },
          "metadata": {
            "tags": []
          },
          "execution_count": 13
        }
      ]
    },
    {
      "cell_type": "markdown",
      "metadata": {
        "id": "Itzzt3W3uWp-"
      },
      "source": [
        "# Day 4"
      ]
    },
    {
      "cell_type": "code",
      "metadata": {
        "id": "3J_qSXWYuWzn",
        "colab": {
          "base_uri": "https://localhost:8080/"
        },
        "outputId": "af9ff3dc-6ed7-482c-8503-7ff15450b1c5"
      },
      "source": [
        "def non_decreasing_digits(digits):\n",
        "    valid = True\n",
        "    for i, digit in enumerate(digits[0:len(digits)-1]):\n",
        "        valid &= digit <= digits[i+1]\n",
        "    return valid\n",
        "\n",
        "def has_adjacent_digits(digits):\n",
        "    valid = False\n",
        "    for i, digit in enumerate(digits[0:len(digits)-1]):\n",
        "        valid |= digit == digits[i+1]\n",
        "    return valid\n",
        "\n",
        "passwords = [list(str(i)) for i in range(254032,789860)]\n",
        "valid_passwords = filter(non_decreasing_digits, passwords)\n",
        "valid_passwords = filter(has_adjacent_digits, valid_passwords)\n",
        "print(len(list(valid_passwords)))\n"
      ],
      "execution_count": null,
      "outputs": [
        {
          "output_type": "stream",
          "text": [
            "1033\n"
          ],
          "name": "stdout"
        }
      ]
    },
    {
      "cell_type": "code",
      "metadata": {
        "id": "j1lyvlvWuW2J",
        "colab": {
          "base_uri": "https://localhost:8080/"
        },
        "outputId": "7c02b44a-c97d-449a-87e1-d4109c05004c"
      },
      "source": [
        "def has_adjacent_digits_max_two(digits):\n",
        "    groups = [list(g) for _, g in groupby(digits)]\n",
        "    group_lens = list(map(len, groups))\n",
        "    return (2 in group_lens)\n",
        "\n",
        "valid_passwords = filter(non_decreasing_digits, passwords)\n",
        "valid_passwords = filter(has_adjacent_digits_max_two, valid_passwords)\n",
        "print(len(list(valid_passwords)))\n"
      ],
      "execution_count": null,
      "outputs": [
        {
          "output_type": "stream",
          "text": [
            "670\n"
          ],
          "name": "stdout"
        }
      ]
    },
    {
      "cell_type": "markdown",
      "metadata": {
        "id": "I1g-vAHRuXTQ"
      },
      "source": [
        "# Day 5"
      ]
    },
    {
      "cell_type": "code",
      "metadata": {
        "colab": {
          "base_uri": "https://localhost:8080/"
        },
        "id": "Sajzx9IM9V1_",
        "outputId": "616e6954-e177-41b8-8fe8-20dfd4ae5e06"
      },
      "source": [
        "with open(f\"{INPUTS_DIR}/day05\", \"r\") as fin:\n",
        "    ops = [int(c) for c in fin.read().split(\",\")]  \n",
        "    cpu = IntCodeComputer(ops)\n",
        "    out = cpu.run(1)\n",
        "    print(out)"
      ],
      "execution_count": null,
      "outputs": [
        {
          "output_type": "stream",
          "text": [
            "3122865\n"
          ],
          "name": "stdout"
        }
      ]
    },
    {
      "cell_type": "code",
      "metadata": {
        "colab": {
          "base_uri": "https://localhost:8080/"
        },
        "id": "w_lM5iHK0HN9",
        "outputId": "cded8fee-0e9f-4b6b-e3ab-8098c78c4e4f"
      },
      "source": [
        "with open(f\"{INPUTS_DIR}/day05\", \"r\") as fin:\n",
        "    ops = [int(c) for c in fin.read().split(\",\")]  \n",
        "    cpu = IntCodeComputer(ops)\n",
        "    out = cpu.run(5)\n",
        "    print(out)   "
      ],
      "execution_count": null,
      "outputs": [
        {
          "output_type": "stream",
          "text": [
            "773660\n"
          ],
          "name": "stdout"
        }
      ]
    },
    {
      "cell_type": "markdown",
      "metadata": {
        "id": "ghwvgGpauXlj"
      },
      "source": [
        "# Day 6\n"
      ]
    },
    {
      "cell_type": "code",
      "metadata": {
        "id": "YLFTFNtVuXvN"
      },
      "source": [
        "class Satellite:\n",
        "    def __init__(self, name, orbits=None):\n",
        "        self.name = name\n",
        "        self.orbits = orbits\n",
        "        self.orbit_by = []\n",
        "        self._total_orbits = None\n",
        "        if orbits:\n",
        "            orbits.add_satellite(self)\n",
        "\n",
        "    def num_satellites(self):\n",
        "        return len(self.orbits)\n",
        "    \n",
        "    def add_satellite(self, satellite):\n",
        "        self.orbit_by.append(satellite)\n",
        "\n",
        "    def set_orbits(self, orbits):\n",
        "        self.orbits = orbits\n",
        "        orbits.add_satellite(self)\n",
        "\n",
        "    def orbits_path(self):\n",
        "        o = self\n",
        "        path = []\n",
        "        while o.orbits is not None:\n",
        "            o = o.orbits\n",
        "            path.append(o)\n",
        "        return path\n",
        "\n",
        "    def total_orbits(self):\n",
        "        if self._total_orbits is not None:\n",
        "            return self._total_orbits\n",
        "\n",
        "        self._total_orbits = len(self.orbits_path())\n",
        "        return self._total_orbits\n",
        "\n",
        "    def __repr__(self):\n",
        "        return self.name\n",
        "\n",
        "orbits = {}\n",
        "with open(f\"{INPUTS_DIR}/day06\", \"r\") as fin:\n",
        "    for line in fin:\n",
        "        obj_name, sat_name = line.strip().split(\")\")\n",
        "        obj = orbits.get(obj_name)\n",
        "        if not obj:\n",
        "            obj = Satellite(obj_name)\n",
        "            orbits[obj_name] = obj\n",
        "\n",
        "        sat = orbits.get(sat_name)\n",
        "        if not sat:\n",
        "            orbits[sat_name] = Satellite(sat_name, obj)\n",
        "        else:\n",
        "            sat.set_orbits(obj)"
      ],
      "execution_count": null,
      "outputs": []
    },
    {
      "cell_type": "code",
      "metadata": {
        "id": "TxU_jV08uXxL",
        "colab": {
          "base_uri": "https://localhost:8080/"
        },
        "outputId": "0aa06c32-8182-4130-fe27-4a542422a3b2"
      },
      "source": [
        "sum([o.total_orbits() for o in orbits.values()])"
      ],
      "execution_count": null,
      "outputs": [
        {
          "output_type": "execute_result",
          "data": {
            "text/plain": [
              "247089"
            ]
          },
          "metadata": {
            "tags": []
          },
          "execution_count": 53
        }
      ]
    },
    {
      "cell_type": "code",
      "metadata": {
        "colab": {
          "base_uri": "https://localhost:8080/"
        },
        "id": "O3BI9YGty4Dw",
        "outputId": "7137b76b-bf45-4954-910a-0561fd54e310"
      },
      "source": [
        "san_path = orbits['SAN'].orbits_path()\n",
        "san_path_set = set(san_path)\n",
        "common = None\n",
        "you_path = orbits['YOU'].orbits_path()\n",
        "for sat in you_path:\n",
        "    if sat in san_path_set:\n",
        "        common = sat\n",
        "        break\n",
        "\n",
        "you_path.index(common) + san_path.index(common)"
      ],
      "execution_count": null,
      "outputs": [
        {
          "output_type": "execute_result",
          "data": {
            "text/plain": [
              "442"
            ]
          },
          "metadata": {
            "tags": []
          },
          "execution_count": 59
        }
      ]
    },
    {
      "cell_type": "markdown",
      "metadata": {
        "id": "BnN3eswkY7pK"
      },
      "source": [
        "# Day 7"
      ]
    },
    {
      "cell_type": "code",
      "metadata": {
        "id": "moPnnAaOY7yF",
        "colab": {
          "base_uri": "https://localhost:8080/"
        },
        "outputId": "a4e38fa3-f7f9-46db-987f-ef45a1ab2e2c"
      },
      "source": [
        "with open(f\"{INPUTS_DIR}/day07\", \"r\") as fin:\n",
        "    ops = [int(c) for c in fin.read().split(\",\")] \n",
        "\n",
        "max_val = -1\n",
        "for a,b,c,d,e in permutations([0,1,2,3,4],5):\n",
        "    out = IntCodeComputer(ops.copy()).run([a, 0])\n",
        "    out = IntCodeComputer(ops.copy()).run([b, out])\n",
        "    out = IntCodeComputer(ops.copy()).run([c, out])\n",
        "    out = IntCodeComputer(ops.copy()).run([d, out])\n",
        "    out = IntCodeComputer(ops.copy()).run([e, out])\n",
        "    if out > max_val:\n",
        "        max_val = out\n",
        "\n",
        "max_val"
      ],
      "execution_count": null,
      "outputs": [
        {
          "output_type": "execute_result",
          "data": {
            "text/plain": [
              "87138"
            ]
          },
          "metadata": {
            "tags": []
          },
          "execution_count": 187
        }
      ]
    },
    {
      "cell_type": "code",
      "metadata": {
        "id": "v5l_ur0-Y71K",
        "colab": {
          "base_uri": "https://localhost:8080/"
        },
        "outputId": "a390d8e9-eca0-47cc-9499-7ae80640b86d"
      },
      "source": [
        "with open(f\"{INPUTS_DIR}/day07\", \"r\") as fin:\n",
        "    ops = [int(c) for c in fin.read().split(\",\")] \n",
        "\n",
        "def engine_feedback_loop(engines):\n",
        "    signal = 0\n",
        "    for engine in cycle(engines):\n",
        "        if engine.halted:\n",
        "            break\n",
        "\n",
        "        signal = engine.run(signal)\n",
        "\n",
        "    return signal\n",
        "\n",
        "max_val = -1\n",
        "\n",
        "for a,b,c,d,e in permutations([5,6,7,8,9],5):\n",
        "    engines = [\n",
        "        IntCodeComputer(ops.copy(), phase=a),\n",
        "        IntCodeComputer(ops.copy(), phase=b),\n",
        "        IntCodeComputer(ops.copy(), phase=c),\n",
        "        IntCodeComputer(ops.copy(), phase=d),\n",
        "        IntCodeComputer(ops.copy(), phase=e)     \n",
        "    ]\n",
        "\n",
        "    out = engine_feedback_loop(engines)\n",
        "    if out > max_val:\n",
        "        max_val = out\n",
        "\n",
        "max_val"
      ],
      "execution_count": null,
      "outputs": [
        {
          "output_type": "execute_result",
          "data": {
            "text/plain": [
              "17279674"
            ]
          },
          "metadata": {
            "tags": []
          },
          "execution_count": 188
        }
      ]
    },
    {
      "cell_type": "markdown",
      "metadata": {
        "id": "hi7uVFakY781"
      },
      "source": [
        "# Day 8"
      ]
    },
    {
      "cell_type": "code",
      "metadata": {
        "id": "UEsEUhpAY8Ch",
        "colab": {
          "base_uri": "https://localhost:8080/"
        },
        "outputId": "c0ee33d1-261d-4a4e-f2d1-5b5c4e2186be"
      },
      "source": [
        "with open(f\"{INPUTS_DIR}/day08\", \"r\") as fin:\n",
        "    line = fin.read().strip()\n",
        "    n = 25*6\n",
        "    layers = [line[i:i+n] for i in range(0, len(line), n)]\n",
        "    layer = min(layers, key=lambda x: x.count(\"0\"))\n",
        "    print(layer.count(\"1\") * layer.count(\"2\"))"
      ],
      "execution_count": null,
      "outputs": [
        {
          "output_type": "stream",
          "text": [
            "1360\n"
          ],
          "name": "stdout"
        }
      ]
    },
    {
      "cell_type": "code",
      "metadata": {
        "id": "3qeM1nFiY8E5",
        "colab": {
          "base_uri": "https://localhost:8080/"
        },
        "outputId": "e4981d02-569d-4b31-e0db-e8c93bfbf963"
      },
      "source": [
        "with open(f\"{INPUTS_DIR}/day08\", \"r\") as fin:\n",
        "    line = fin.read().strip()\n",
        "    n = 25*6\n",
        "    layers = [line[i:i+n] for i in range(0, len(line), n)]\n",
        "    image = []\n",
        "    for i in range(0, n):\n",
        "        layer = 0\n",
        "        while layers[layer][i] == \"2\":\n",
        "            layer += 1\n",
        "        image.append(layers[layer][i])\n",
        "\n",
        "    for i, b in enumerate(image):\n",
        "        if i % 25 == 0:\n",
        "            print('')\n",
        "\n",
        "        print(\"\\u2B1B\" if b == \"0\" else \"\\u2B1C\", end='')\n"
      ],
      "execution_count": null,
      "outputs": [
        {
          "output_type": "stream",
          "text": [
            "\n",
            "⬜⬜⬜⬜⬛⬜⬜⬜⬛⬛⬜⬛⬛⬜⬛⬛⬜⬜⬛⬛⬜⬜⬜⬛⬛\n",
            "⬜⬛⬛⬛⬛⬜⬛⬛⬜⬛⬜⬛⬛⬜⬛⬜⬛⬛⬜⬛⬜⬛⬛⬜⬛\n",
            "⬜⬜⬜⬛⬛⬜⬛⬛⬜⬛⬜⬛⬛⬜⬛⬜⬛⬛⬜⬛⬜⬛⬛⬜⬛\n",
            "⬜⬛⬛⬛⬛⬜⬜⬜⬛⬛⬜⬛⬛⬜⬛⬜⬜⬜⬜⬛⬜⬜⬜⬛⬛\n",
            "⬜⬛⬛⬛⬛⬜⬛⬛⬛⬛⬜⬛⬛⬜⬛⬜⬛⬛⬜⬛⬜⬛⬜⬛⬛\n",
            "⬜⬛⬛⬛⬛⬜⬛⬛⬛⬛⬛⬜⬜⬛⬛⬜⬛⬛⬜⬛⬜⬛⬛⬜⬛"
          ],
          "name": "stdout"
        }
      ]
    },
    {
      "cell_type": "markdown",
      "metadata": {
        "id": "oe0uDglXY8KV"
      },
      "source": [
        "# Day 9"
      ]
    },
    {
      "cell_type": "code",
      "metadata": {
        "colab": {
          "base_uri": "https://localhost:8080/"
        },
        "id": "BXLmsslye6gr",
        "outputId": "1d979a85-ad7c-4d88-f5de-aed27c35ff53"
      },
      "source": [
        "with open(f\"{INPUTS_DIR}/day09\", \"r\") as fin:\n",
        "    ops = [int(c) for c in fin.read().split(\",\")] \n",
        "\n",
        "comp = IntCodeComputer(ops)\n",
        "comp.run(1)\n"
      ],
      "execution_count": null,
      "outputs": [
        {
          "output_type": "execute_result",
          "data": {
            "text/plain": [
              "4006117640"
            ]
          },
          "metadata": {
            "tags": []
          },
          "execution_count": 192
        }
      ]
    },
    {
      "cell_type": "code",
      "metadata": {
        "id": "sJ0Y5H1AY8Yv",
        "colab": {
          "base_uri": "https://localhost:8080/"
        },
        "outputId": "c34ee56d-3d5a-462b-8a0b-55f63e717505"
      },
      "source": [
        "with open(f\"{INPUTS_DIR}/day09\", \"r\") as fin:\n",
        "    ops = [int(c) for c in fin.read().split(\",\")] \n",
        "\n",
        "comp = IntCodeComputer(ops)\n",
        "comp.run(2)"
      ],
      "execution_count": null,
      "outputs": [
        {
          "output_type": "execute_result",
          "data": {
            "text/plain": [
              "88231"
            ]
          },
          "metadata": {
            "tags": []
          },
          "execution_count": 193
        }
      ]
    },
    {
      "cell_type": "markdown",
      "metadata": {
        "id": "cZRoNgFpY8eO"
      },
      "source": [
        "# Day 10"
      ]
    },
    {
      "cell_type": "code",
      "metadata": {
        "id": "ZGvf102-Y8lF",
        "colab": {
          "base_uri": "https://localhost:8080/"
        },
        "outputId": "37aa8476-91b2-4a6a-ec68-fc04360a53bd"
      },
      "source": [
        "satellites = []\r\n",
        "line_of_sight = {}\r\n",
        "with open(f\"{INPUTS_DIR}/day10\", \"r\") as fin:\r\n",
        "    for i, line in enumerate(fin):\r\n",
        "        for j, cell in enumerate(line): \r\n",
        "            if cell == \"#\":\r\n",
        "                satellites.append((i,j))\r\n",
        "                line_of_sight[(i,j)] = set()\r\n",
        "\r\n",
        "max_los = 0\r\n",
        "sat_max_los = None\r\n",
        "for sat in satellites:\r\n",
        "    for other in satellites:\r\n",
        "        if sat == other:\r\n",
        "            continue\r\n",
        "        x = other[1] - sat[1]\r\n",
        "        y = other[0] - sat[0]\r\n",
        "        theta = math.atan2(y,x)\r\n",
        "        line_of_sight[sat].add(theta)\r\n",
        "\r\n",
        "    if len(line_of_sight[sat]) > max_los:\r\n",
        "        max_los = len(line_of_sight[sat])\r\n",
        "        sat_max_los = sat\r\n",
        "\r\n",
        "max_los"
      ],
      "execution_count": null,
      "outputs": [
        {
          "output_type": "execute_result",
          "data": {
            "text/plain": [
              "284"
            ]
          },
          "metadata": {
            "tags": []
          },
          "execution_count": 5
        }
      ]
    },
    {
      "cell_type": "code",
      "metadata": {
        "id": "sWZqU5SaY8nc"
      },
      "source": [],
      "execution_count": null,
      "outputs": []
    },
    {
      "cell_type": "markdown",
      "metadata": {
        "id": "RujM3-faY8tB"
      },
      "source": [
        "# Day 11"
      ]
    },
    {
      "cell_type": "code",
      "metadata": {
        "id": "4sIjSMTNY8yX"
      },
      "source": [],
      "execution_count": null,
      "outputs": []
    },
    {
      "cell_type": "code",
      "metadata": {
        "id": "2kmdhzqRY80u"
      },
      "source": [],
      "execution_count": null,
      "outputs": []
    },
    {
      "cell_type": "markdown",
      "metadata": {
        "id": "0UcgXsIXY86N"
      },
      "source": []
    },
    {
      "cell_type": "code",
      "metadata": {
        "id": "nvnLIXOSY8_P"
      },
      "source": [],
      "execution_count": null,
      "outputs": []
    },
    {
      "cell_type": "code",
      "metadata": {
        "id": "JXo51FoQY9BX"
      },
      "source": [],
      "execution_count": null,
      "outputs": []
    },
    {
      "cell_type": "markdown",
      "metadata": {
        "id": "2yIeIoNGY9Gf"
      },
      "source": []
    },
    {
      "cell_type": "code",
      "metadata": {
        "id": "BhYKQwdDY9L9"
      },
      "source": [],
      "execution_count": null,
      "outputs": []
    },
    {
      "cell_type": "code",
      "metadata": {
        "id": "kGLYVhFWY9OT"
      },
      "source": [],
      "execution_count": null,
      "outputs": []
    }
  ]
}