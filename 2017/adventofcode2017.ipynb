{
 "cells": [
  {
   "cell_type": "code",
   "execution_count": 55,
   "metadata": {},
   "outputs": [],
   "source": [
    "import csv\n",
    "import math\n",
    "import operator\n",
    "import re\n",
    "from collections import Counter, defaultdict, namedtuple\n",
    "from functools import lru_cache\n",
    "from itertools import product\n",
    "from types import SimpleNamespace\n",
    "\n",
    "def is_integer(num):\n",
    "    return int(num) == num\n",
    "\n",
    "def sort_string(s):\n",
    "    return ''.join(sorted(s))"
   ]
  },
  {
   "cell_type": "markdown",
   "metadata": {},
   "source": [
    "# Day 1: Inverse captcha"
   ]
  },
  {
   "cell_type": "code",
   "execution_count": 17,
   "metadata": {},
   "outputs": [
    {
     "data": {
      "text/plain": [
       "1119"
      ]
     },
     "execution_count": 17,
     "metadata": {},
     "output_type": "execute_result"
    }
   ],
   "source": [
    "def captcha(digits, step=1):\n",
    "    size = len(digits)\n",
    "    match_next = [\n",
    "        int(v) if v == digits[(k+step) % size] else 0\n",
    "        for k, v in enumerate(digits)\n",
    "    ]\n",
    "    return sum(match_next)\n",
    "\n",
    "with open('inputs/day1', 'r') as f:\n",
    "    digits = f.read().strip()\n",
    "    \n",
    "captcha(digits)"
   ]
  },
  {
   "cell_type": "code",
   "execution_count": 18,
   "metadata": {},
   "outputs": [
    {
     "data": {
      "text/plain": [
       "1420"
      ]
     },
     "execution_count": 18,
     "metadata": {},
     "output_type": "execute_result"
    }
   ],
   "source": [
    "captcha(digits, step=(len(digits)//2))"
   ]
  },
  {
   "cell_type": "markdown",
   "metadata": {},
   "source": [
    "# Day 2: Corruption Checksum"
   ]
  },
  {
   "cell_type": "code",
   "execution_count": 37,
   "metadata": {},
   "outputs": [
    {
     "data": {
      "text/plain": [
       "51139"
      ]
     },
     "execution_count": 37,
     "metadata": {},
     "output_type": "execute_result"
    }
   ],
   "source": [
    "def min_max_diff(iterable):\n",
    "    return max(iterable) - min(iterable)\n",
    "\n",
    "def checksum(*args, row_func=min_max_diff):\n",
    "    return sum([row_func(line) for line in args])\n",
    "\n",
    "with open('inputs/day2', 'r') as f:\n",
    "    reader = csv.reader(f, delimiter=\"\\t\")\n",
    "    lines = [list(map(int, line)) for line in reader]\n",
    "\n",
    "checksum(*lines)"
   ]
  },
  {
   "cell_type": "code",
   "execution_count": 40,
   "metadata": {},
   "outputs": [
    {
     "data": {
      "text/plain": [
       "272.0"
      ]
     },
     "execution_count": 40,
     "metadata": {},
     "output_type": "execute_result"
    }
   ],
   "source": [
    "def evenly_divisible(iterable):\n",
    "    divs = (p[0] / p[1] for p in product(iterable, repeat=2) if p[0] != p[1])\n",
    "    for num in divs:\n",
    "        if is_integer(num):\n",
    "            return num\n",
    "        \n",
    "checksum(*lines, row_func=evenly_divisible)"
   ]
  },
  {
   "cell_type": "markdown",
   "metadata": {},
   "source": [
    "# Day 3: Spiral Memory\n",
    "First observation is that the lower right corner number of each ring in the spiral is equal to (2n+1)^2\n",
    "Knowing the ring number is one part of the Manhattan Distance.  The second part of the distance is how far the we need to walk to the center of the edge. The coordinates of the center of each edge for a ring is given by: \n",
    "((2n+1)^2 - n, (2n+1)^2 - 3n, (2n+1)^2 - 5n, (2n+1)^2 - 7n)"
   ]
  },
  {
   "cell_type": "code",
   "execution_count": 3,
   "metadata": {},
   "outputs": [
    {
     "data": {
      "text/plain": [
       "(303, 68)"
      ]
     },
     "execution_count": 3,
     "metadata": {},
     "output_type": "execute_result"
    }
   ],
   "source": [
    "def spiral_ring_radius(num):\n",
    "    radius = math.ceil((math.sqrt(num) - 1)/2)\n",
    "    return int(radius)\n",
    "\n",
    "def spiral_ring_edge_centers(ring):\n",
    "    corner = ((2 * ring) + 1) ** 2\n",
    "    return [\n",
    "        corner - 1 * ring,\n",
    "        corner - 3 * ring,\n",
    "        corner - 5 * ring,\n",
    "        corner - 7 * ring,\n",
    "    ]\n",
    "    \n",
    "def spiral_manhattan_distance(num):\n",
    "    ring = spiral_ring_radius(num)\n",
    "    centers = spiral_ring_edge_centers(ring)\n",
    "    walks = [abs(num - c) for c in centers]\n",
    "    return (ring, min(walks))\n",
    "\n",
    "day3_input = 368078\n",
    "spiral_manhattan_distance(day3_input)"
   ]
  },
  {
   "cell_type": "markdown",
   "metadata": {},
   "source": [
    "The new spiral values can be built with a recursive function.  \n",
    "F(0) = 1\n",
    "F(n) = F(n-1)"
   ]
  },
  {
   "cell_type": "markdown",
   "metadata": {},
   "source": [
    "# Day 4: High-Entropy Passphrase"
   ]
  },
  {
   "cell_type": "code",
   "execution_count": 13,
   "metadata": {},
   "outputs": [
    {
     "data": {
      "text/plain": [
       "466"
      ]
     },
     "execution_count": 13,
     "metadata": {},
     "output_type": "execute_result"
    }
   ],
   "source": [
    "def is_valid_passphrase(passphrase):\n",
    "    words = passphrase.strip().split(' ')\n",
    "    return len(words) == len(set(words))\n",
    "    \n",
    "with open('inputs/day4', 'r') as f:\n",
    "    lines = list(map(str.strip, f.readlines()))\n",
    "\n",
    "sum([is_valid_passphrase(line) for line in lines])"
   ]
  },
  {
   "cell_type": "code",
   "execution_count": 18,
   "metadata": {},
   "outputs": [
    {
     "data": {
      "text/plain": [
       "251"
      ]
     },
     "execution_count": 18,
     "metadata": {},
     "output_type": "execute_result"
    }
   ],
   "source": [
    "def is_valid_passphrase_anagrams(passphrase):\n",
    "    words = [sort_string(w) for w in passphrase.strip().split(' ')]\n",
    "    return len(words) == len(set(words))\n",
    "\n",
    "sum([is_valid_passphrase_anagrams(line) for line in lines])"
   ]
  },
  {
   "cell_type": "markdown",
   "metadata": {},
   "source": [
    "# Day 5: A Maze of Twisty Trampolines, All Alike"
   ]
  },
  {
   "cell_type": "code",
   "execution_count": 36,
   "metadata": {},
   "outputs": [
    {
     "data": {
      "text/plain": [
       "387096"
      ]
     },
     "execution_count": 36,
     "metadata": {},
     "output_type": "execute_result"
    }
   ],
   "source": [
    "def _simple_instr_change(i):\n",
    "    return 1\n",
    "\n",
    "def _complex_instr_change(i):\n",
    "    return -1 if i >= 3 else 1\n",
    "    \n",
    "def jump_outside_stepcount(instructions, func=_simple_instr_change):\n",
    "    curr = 0\n",
    "    count = 0\n",
    "    while True:\n",
    "        try:\n",
    "            moves = instructions[curr]\n",
    "        except IndexError:\n",
    "            break\n",
    "            \n",
    "        instructions[curr] += func(instructions[curr])\n",
    "        curr += moves\n",
    "        count += 1\n",
    "        \n",
    "    return count\n",
    "\n",
    "with open('inputs/day5', 'r') as f:\n",
    "    instructions = list(map(int, f.readlines()))\n",
    "    \n",
    "jump_outside_stepcount(instructions.copy())"
   ]
  },
  {
   "cell_type": "code",
   "execution_count": 37,
   "metadata": {},
   "outputs": [
    {
     "data": {
      "text/plain": [
       "28040648"
      ]
     },
     "execution_count": 37,
     "metadata": {},
     "output_type": "execute_result"
    }
   ],
   "source": [
    "jump_outside_stepcount(instructions.copy(), func=_complex_instr_change)"
   ]
  },
  {
   "cell_type": "markdown",
   "metadata": {},
   "source": [
    "# Day 6: Memory Reallocation"
   ]
  },
  {
   "cell_type": "code",
   "execution_count": 52,
   "metadata": {},
   "outputs": [
    {
     "data": {
      "text/plain": [
       "11137"
      ]
     },
     "execution_count": 52,
     "metadata": {},
     "output_type": "execute_result"
    }
   ],
   "source": [
    "class Memory(list):\n",
    "    def __str__(self):\n",
    "        return \",\".join(map(str, self))\n",
    "        \n",
    "    def reallocate(self):\n",
    "        index = self.most_blocks\n",
    "        size = len(self)\n",
    "        blocks, self[index] = self[index], 0\n",
    "        for i in range(1, blocks + 1):\n",
    "            self[(index+i) % size] += 1\n",
    "\n",
    "    @property\n",
    "    def most_blocks(self):\n",
    "        return self.index(max(self)) \n",
    "\n",
    "def memory_reallocation(memory):       \n",
    "    history = [str(memory),]   \n",
    "    while True:\n",
    "        memory.reallocate()     \n",
    "        if str(memory) in history:\n",
    "            break\n",
    "        else:\n",
    "            history.append(str(memory))\n",
    "            \n",
    "    return len(history)\n",
    "\n",
    "with open('inputs/day6', 'r') as f:\n",
    "    memory_bank = Memory(map(int, f.read().split('\\t')))\n",
    "    \n",
    "memory_reallocation(memory_bank)"
   ]
  },
  {
   "cell_type": "code",
   "execution_count": 53,
   "metadata": {},
   "outputs": [
    {
     "data": {
      "text/plain": [
       "1037"
      ]
     },
     "execution_count": 53,
     "metadata": {},
     "output_type": "execute_result"
    }
   ],
   "source": [
    "memory_reallocation(memory_bank)"
   ]
  },
  {
   "cell_type": "markdown",
   "metadata": {},
   "source": [
    "# Day 7: Recursive Circus\n",
    "For part 2, we need to find the program node that has balanced children but is itself unbalanced"
   ]
  },
  {
   "cell_type": "code",
   "execution_count": 51,
   "metadata": {},
   "outputs": [
    {
     "data": {
      "text/plain": [
       "'gynfwly'"
      ]
     },
     "execution_count": 51,
     "metadata": {},
     "output_type": "execute_result"
    }
   ],
   "source": [
    "class ProgramTower(defaultdict):\n",
    "    def get_bottom(self):\n",
    "        for name, program in self.items():\n",
    "            if not program.parent:\n",
    "                return name\n",
    "\n",
    "class ProgramTowerNode:\n",
    "    def __init__(self, weight=None, parent=None, supports=None):\n",
    "        self.weight = weight\n",
    "        self.parent = parent\n",
    "        self.supports = supports if supports else []\n",
    "    \n",
    "    def __repr__(self):\n",
    "        return f'{self.name} ({self.weight})'\n",
    "    \n",
    "    @property\n",
    "    @lru_cache()\n",
    "    def total_weight(self):\n",
    "        weight = self.weight if self.weight else 0 \n",
    "        return weight + sum([child.total_weight for child in self.supports])\n",
    "        \n",
    "DAY7_RE = r'([a-z]+) \\((\\d+)\\)(?: -\\> (.*))?'\n",
    "\n",
    "program_tower = ProgramTower(lambda: ProgramTowerNode())\n",
    "with open('inputs/day7', 'r') as f:\n",
    "    for line in f:\n",
    "        name, weight, supports = re.match(DAY7_RE, line).groups()\n",
    "        \n",
    "        program_tower[name].name = name\n",
    "        program_tower[name].weight = int(weight)\n",
    "        if supports:\n",
    "            for support in map(str.strip, supports.split(',')):\n",
    "                program_tower[name].supports.append(program_tower[support])\n",
    "                program_tower[support].parent = program_tower[name]\n",
    "            \n",
    "program_tower.get_bottom()  \n"
   ]
  },
  {
   "cell_type": "code",
   "execution_count": 53,
   "metadata": {},
   "outputs": [
    {
     "data": {
      "text/plain": [
       "1526"
      ]
     },
     "execution_count": 53,
     "metadata": {},
     "output_type": "execute_result"
    }
   ],
   "source": [
    "def find_unbalanced(tower):\n",
    "    child_weights = defaultdict(list)\n",
    "    for child in tower.supports:\n",
    "        child_weights[child.total_weight].append(child)\n",
    "\n",
    "    unbalanced_weight, unbalanced = next(\n",
    "        filter(lambda x: len(x[1]) == 1, child_weights.items()), \n",
    "        (None, None)\n",
    "    )\n",
    "    if not unbalanced:\n",
    "        return tower\n",
    "    else:    \n",
    "        return find_unbalanced(unbalanced[0])\n",
    "\n",
    "def find_unbalanced_adjustment(node):\n",
    "    weights = Counter([x.total_weight for x in node.parent.supports])\n",
    "    common_weight = weights.most_common(1)[0][0]\n",
    "    adjustment = (node.total_weight - common_weight)\n",
    "    return node.weight - adjustment\n",
    "    \n",
    "find_unbalanced_adjustment(find_unbalanced(program_tower['gynfwly']))"
   ]
  },
  {
   "cell_type": "markdown",
   "metadata": {},
   "source": [
    "# Day 8: I Heard You Like Registers\n",
    "Since all the register values initialize to 0, a Counter is a good option"
   ]
  },
  {
   "cell_type": "code",
   "execution_count": 67,
   "metadata": {},
   "outputs": [
    {
     "data": {
      "text/plain": [
       "('ic', 5215)"
      ]
     },
     "execution_count": 67,
     "metadata": {},
     "output_type": "execute_result"
    }
   ],
   "source": [
    "class CpuRegister(Counter):\n",
    "    MATH_OPS = {\n",
    "        'inc': operator.add,\n",
    "        'dec': operator.sub,\n",
    "    }\n",
    "    \n",
    "    LOGIC_OPS = {\n",
    "        '>': operator.gt,\n",
    "        '>=': operator.ge,\n",
    "        '<': operator.lt,\n",
    "        '<=': operator.le,\n",
    "        '!=': operator.ne,\n",
    "        '==': operator.eq\n",
    "    }\n",
    "    \n",
    "    def __init__(self):\n",
    "        self.historical_max = 0\n",
    "        \n",
    "    def check(self, register, op, value):\n",
    "        return self.LOGIC_OPS.get(op)(self[register], value)\n",
    "    \n",
    "    def process(self, register, op, value):\n",
    "        self[register] = self.MATH_OPS.get(op)(self[register], value)\n",
    "        self.historical_max = max(self.historical_max, self.max_value[1])\n",
    "        \n",
    "    @property\n",
    "    def max_value(self):\n",
    "        return self.most_common(1)[0]\n",
    "    \n",
    "DAY8_RE = r'([a-z]+) (inc|dec) ([-0-9]+) if ([a-z]+) ([<>=!]+) ([-0-9]+)'\n",
    "\n",
    "cpu_register = CpuRegister()\n",
    "with open('inputs/day8', 'r') as f:\n",
    "    for line in f:\n",
    "        reg, math_op, math_val, test_reg, test_op, test_val = re.match(DAY8_RE, line).groups()\n",
    "        if cpu_register.check(test_reg, test_op, int(test_val)):\n",
    "            cpu_register.process(reg, math_op, int(math_val))\n",
    "            \n",
    "cpu_register.max_value"
   ]
  },
  {
   "cell_type": "code",
   "execution_count": 68,
   "metadata": {},
   "outputs": [
    {
     "data": {
      "text/plain": [
       "6419"
      ]
     },
     "execution_count": 68,
     "metadata": {},
     "output_type": "execute_result"
    }
   ],
   "source": [
    "cpu_register.historical_max"
   ]
  },
  {
   "cell_type": "markdown",
   "metadata": {},
   "source": [
    "# Day 9: Stream Processing\n",
    "We use a series of regular expressions to filter out the ! and also the garbage.  Once we are left with a stream that is only {} characters, we can compute the values.  Similarly, we can use regular expressions to extract the characters that are in the <> garbage tags"
   ]
  },
  {
   "cell_type": "code",
   "execution_count": 85,
   "metadata": {},
   "outputs": [
    {
     "data": {
      "text/plain": [
       "16689"
      ]
     },
     "execution_count": 85,
     "metadata": {},
     "output_type": "execute_result"
    }
   ],
   "source": [
    "with open('inputs/day9', 'r') as f:\n",
    "    stream = f.read().strip()\n",
    "        \n",
    "def stream_value(stream):\n",
    "    stream = re.sub(r'!.', '', stream)\n",
    "    stream = re.sub(r'<.*?>', '', stream)\n",
    "        \n",
    "    total = 0\n",
    "    curr = 0\n",
    "    for c in stream:\n",
    "        if c == '{':\n",
    "            curr += 1\n",
    "        elif c == '}':\n",
    "            total += curr\n",
    "            curr -= 1\n",
    "    return total    \n",
    "\n",
    "stream_value(stream)"
   ]
  },
  {
   "cell_type": "code",
   "execution_count": 86,
   "metadata": {},
   "outputs": [
    {
     "data": {
      "text/plain": [
       "7982"
      ]
     },
     "execution_count": 86,
     "metadata": {},
     "output_type": "execute_result"
    }
   ],
   "source": [
    "def garbage_count(stream):\n",
    "    stream = re.sub(r'!.', '', stream)\n",
    "    clusters = re.findall(r'<(.*?)>', stream)\n",
    "    return sum(list(map(len, clusters)))\n",
    "\n",
    "garbage_count(stream)"
   ]
  },
  {
   "cell_type": "markdown",
   "metadata": {},
   "source": [
    "# Day 10: Knot Hash"
   ]
  },
  {
   "cell_type": "code",
   "execution_count": 87,
   "metadata": {},
   "outputs": [],
   "source": [
    "class CircularList(list):\n",
    "    def __getitem__(self, key):\n",
    "        key = key % len(self)\n",
    "        return super().__getitem__(key)\n",
    "    \n",
    "    def __setitem__(self, key):\n",
    "        key = key % len(self)\n",
    "        return super().__setitem__(key)"
   ]
  },
  {
   "cell_type": "code",
   "execution_count": null,
   "metadata": {},
   "outputs": [],
   "source": []
  }
 ],
 "metadata": {
  "kernelspec": {
   "display_name": "Python 3",
   "language": "python",
   "name": "python3"
  },
  "language_info": {
   "codemirror_mode": {
    "name": "ipython",
    "version": 3
   },
   "file_extension": ".py",
   "mimetype": "text/x-python",
   "name": "python",
   "nbconvert_exporter": "python",
   "pygments_lexer": "ipython3",
   "version": "3.6.4"
  }
 },
 "nbformat": 4,
 "nbformat_minor": 2
}
